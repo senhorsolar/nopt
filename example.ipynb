{
 "cells": [
  {
   "cell_type": "code",
   "execution_count": 1,
   "metadata": {},
   "outputs": [],
   "source": [
    "%load_ext autoreload\n",
    "%autoreload 2\n",
    "\n",
    "import jax\n",
    "from jax import grad, jit, jvp, random, vjp\n",
    "from jax.scipy.sparse.linalg import cg, gmres\n",
    "import jax.numpy as jnp\n",
    "import nopt\n",
    "import matplotlib.pyplot as plt\n",
    "from IPython.display import HTML\n",
    "\n",
    "from nopt.problems import InvertedPendulum, CartPole\n",
    "from nopt import solve"
   ]
  },
  {
   "cell_type": "code",
   "execution_count": 35,
   "metadata": {},
   "outputs": [
    {
     "name": "stdout",
     "output_type": "stream",
     "text": [
      "\n",
      "--iter: 1\n",
      "--- ||c(x)|| = 1.8626306056976318\n",
      "--- x(0) = [ 0.03019904  0.0262285  -0.09700286 -0.01722335]\n",
      "--- x(T) = [-2.9963978e-02  3.5936688e-03  2.0836949e+00 -1.6812413e-03]\n",
      "\n",
      "--iter: 2\n",
      "--- ||c(x)|| = 1.639798641204834\n",
      "--- x(0) = [-0.00178374  0.05163572 -0.04460081 -0.04516439]\n",
      "--- x(T) = [ 9.9694356e-04 -4.7078557e-02  2.3385777e+00 -2.9578120e-01]\n",
      "\n",
      "--iter: 3\n",
      "--- ||c(x)|| = 1.3963439464569092\n",
      "--- x(0) = [-0.0037143   0.03999659 -0.03462758 -0.00695843]\n",
      "--- x(T) = [ 0.0030481  -0.04071717  2.465222    0.05327076]\n",
      "\n",
      "--iter: 4\n",
      "--- ||c(x)|| = 1.3261936902999878\n",
      "--- x(0) = [-0.00403085  0.03283401 -0.03701124  0.01174335]\n",
      "--- x(T) = [ 0.00382979 -0.03648121  2.5092976   0.14941612]\n",
      "\n",
      "--iter: 5\n",
      "--- ||c(x)|| = 1.3059134483337402\n",
      "--- x(0) = [-0.00284904  0.03010602 -0.0587497   0.02573767]\n",
      "--- x(T) = [ 0.00277922 -0.03295768  2.5370972   0.17275862]\n",
      "\n",
      "--iter: 6\n",
      "--- ||c(x)|| = 1.2814241647720337\n",
      "--- x(0) = [-0.00258343  0.0295151  -0.05867387  0.03103646]\n",
      "--- x(T) = [ 0.00256534 -0.03239405  2.5500264   0.17813793]\n",
      "\n",
      "--iter: 7\n",
      "--- ||c(x)|| = 1.2542041540145874\n",
      "--- x(0) = [-0.00238383  0.02939562 -0.06037624  0.03252587]\n",
      "--- x(T) = [ 2.3748721e-03 -3.2116506e-02  2.5643110e+00  1.6730405e-01]\n",
      "\n",
      "--iter: 8\n",
      "--- ||c(x)|| = 1.2317880392074585\n",
      "--- x(0) = [-0.00236253  0.02954162 -0.06091393  0.0323366 ]\n",
      "--- x(T) = [ 2.3658143e-03 -3.2236449e-02  2.5760145e+00  1.5418227e-01]\n",
      "\n",
      "--iter: 9\n",
      "--- ||c(x)|| = 1.212019920349121\n",
      "--- x(0) = [-0.00237774  0.02978669 -0.06187562  0.03210528]\n",
      "--- x(T) = [ 2.3876913e-03 -3.2464646e-02  2.5879052e+00  1.4071134e-01]\n",
      "\n",
      "--iter: 10\n",
      "--- ||c(x)|| = 1.1842011213302612\n",
      "--- x(0) = [-0.00240105  0.03041289 -0.06455022  0.03187   ]\n",
      "--- x(T) = [ 2.4050579e-03 -3.2986458e-02  2.6071677e+00  1.1881831e-01]\n",
      "Optimized in 10 iterations\n"
     ]
    }
   ],
   "source": [
    "#ip = InvertedPendulum()\n",
    "#bcs = dict(x0=jnp.array([jnp.pi, 0.]),\n",
    "#           xN=jnp.array([0., 0.]))\n",
    "\n",
    "ip = CartPole()\n",
    "bcs = dict(\n",
    "    x0=jnp.array([0., 0., 0., 0.]),\n",
    "    xN=jnp.array([0., 0., jnp.pi, 0.])\n",
    ")\n",
    "\n",
    "N = 20\n",
    "\n",
    "p = nopt.NlpProblem(ip, boundary_conditions=bcs, N=N)\n",
    "\n",
    "statedim = ip.statedim\n",
    "\n",
    "def outer_callback(z, lam):\n",
    "    x, u = p._splitz(z)\n",
    "    c_norm = jnp.linalg.norm(p.c(z))\n",
    "    print(f\"--- ||c(x)|| = {c_norm}\")\n",
    "    print(f\"--- x(0) = {x[:statedim]}\")\n",
    "    print(f\"--- x(T) = {x[-statedim:]}\")\n",
    "    \n",
    "\n",
    "xstar = solve(p, outer_callback=outer_callback, max_iters=10, solver=gmres)"
   ]
  },
  {
   "cell_type": "code",
   "execution_count": 36,
   "metadata": {
    "scrolled": true
   },
   "outputs": [
    {
     "data": {
      "text/html": [
       "<video width=\"432\" height=\"288\" controls autoplay loop>\n",
       "  <source type=\"video/mp4\" src=\"data:video/mp4;base64,AAAAIGZ0eXBNNFYgAAACAE00ViBpc29taXNvMmF2YzEAAAAIZnJlZQAAEW1tZGF0AAACnwYF//+b\n",
       "3EXpvebZSLeWLNgg2SPu73gyNjQgLSBjb3JlIDE1MiAtIEguMjY0L01QRUctNCBBVkMgY29kZWMg\n",
       "LSBDb3B5bGVmdCAyMDAzLTIwMTcgLSBodHRwOi8vd3d3LnZpZGVvbGFuLm9yZy94MjY0Lmh0bWwg\n",
       "LSBvcHRpb25zOiBjYWJhYz0xIHJlZj0zIGRlYmxvY2s9MTowOjAgYW5hbHlzZT0weDM6MHgxMTMg\n",
       "bWU9aGV4IHN1Ym1lPTcgcHN5PTEgcHN5X3JkPTEuMDA6MC4wMCBtaXhlZF9yZWY9MSBtZV9yYW5n\n",
       "ZT0xNiBjaHJvbWFfbWU9MSB0cmVsbGlzPTEgOHg4ZGN0PTEgY3FtPTAgZGVhZHpvbmU9MjEsMTEg\n",
       "ZmFzdF9wc2tpcD0xIGNocm9tYV9xcF9vZmZzZXQ9LTIgdGhyZWFkcz02IGxvb2thaGVhZF90aHJl\n",
       "YWRzPTEgc2xpY2VkX3RocmVhZHM9MCBucj0wIGRlY2ltYXRlPTEgaW50ZXJsYWNlZD0wIGJsdXJh\n",
       "eV9jb21wYXQ9MCBjb25zdHJhaW5lZF9pbnRyYT0wIGJmcmFtZXM9MyBiX3B5cmFtaWQ9MiBiX2Fk\n",
       "YXB0PTEgYl9iaWFzPTAgZGlyZWN0PTEgd2VpZ2h0Yj0xIG9wZW5fZ29wPTAgd2VpZ2h0cD0yIGtl\n",
       "eWludD0yNTAga2V5aW50X21pbj01IHNjZW5lY3V0PTQwIGludHJhX3JlZnJlc2g9MCByY19sb29r\n",
       "YWhlYWQ9NDAgcmM9Y3JmIG1idHJlZT0xIGNyZj0yMy4wIHFjb21wPTAuNjAgcXBtaW49MCBxcG1h\n",
       "eD02OSBxcHN0ZXA9NCBpcF9yYXRpbz0xLjQwIGFxPTE6MS4wMACAAAAG9GWIhAAT//73sY+BTcgA\n",
       "DZc6inof4RWx9JBRerHZoGTqAAADAACJgfrfwh+D6gEC33n0hOzlLwStIPu/BYxOWmBGX96bbsYW\n",
       "qP/be5CU3o+iakLFgADOgRCt4nwLm8MpkOPbmwPu6cDuN0E792bUQXyn2jNBErA9RJrnB1cbqMWi\n",
       "MjI32McrTCPVO58r95zSF2A6tE0sKTipGJZzW1TFoE4HuRk7jB9/quGthYe3KZuyBujrBwuwTC5z\n",
       "dc8z0lIs3nqOJ+DibGz4fmXflhsRf1o3c5hszQzGlecTEVLDsL/wAAuk5ew+n42cR9szxHfcf3Pq\n",
       "rBs+R7v8zxrvfeViW3lyx0md3YCYxirOgITBk8k1bCOOADCFFbjfbOn29Q7AdOrH/MXor4zkxChv\n",
       "MQnIlikmRAfcZGUX2sW7vrPV0j9zdQandt136ZNr268jeVT2QqCEsZuwMud9VsHNFbiAG8R33jNy\n",
       "wgci8RrkHsqoh7vH6mrh+madqlxdhiMctW0EgLAEaf2+I6S9vUDQhbTZoR2yOl23ybhFAU36MjUM\n",
       "h38M1FoN9C+o6g6Q5Dog5sEZgsBFuzDZ2hi+bdd/2np005JcQndtoTI+uZZKQzujKjx30Gho8J5P\n",
       "yZ01vnfdRRwpM8Nr/AEk+QJ3AD0MIXOmqRZ+IVIqSEHHUUzxty+ziP/6AcTjHcqxzIANbCQxSvcm\n",
       "DILW05VE9uDPBCu++OsQyB3415POeV8Zto1lcsVjSvcA00oqKG+7w2s8R52kcXKDyPa3duuOrRc+\n",
       "VzIP05NpnHyUKcNtHGk8Yn3chqRA7pIyIFUO+xiesFi5LuL6rVILjKLvRPxWb3NTQZ7xFtutJMYr\n",
       "fwFgao6/h2UKOGLw0cEk57IuE/drZJvL0XqL+Hta6BfvvZx+fGU+y9p43PtzNisJ7Ql+3v00MZ3U\n",
       "n5jYccRV5tVRlBXyFr0bej3D/hxBTi8lbxohiO6+uke5C8ZJz3IhIT9z0u5eo+5EJddkU74JgSbf\n",
       "YlA18NFCbAF0WLh5pEypGoo8u70wi/MlUjmjQ87q8Lc0iEVbsfAihNjVZfvhxFXI17vi7GwD3xG5\n",
       "uukuHd38qFvw/sQEyK61/0XImm7vCAaLHJ/kBwPqL2vJ4gPqepP6BkybrgT1qPrfbAgE505NeOE9\n",
       "16hTuLHDUMVx1zST7NfDPSaHf8r2mRdq/L2sTMbRv+uvD26mkGKnhZVynwwUM2O6PWyMJxERxUh7\n",
       "w8fxQgxJcQvlQOHYfEntq8s8alyi05bERUbZmCJ06w8UzvQ0yDpADMBDeRvLAcXyVXe0r97pTs10\n",
       "4L3u678TW93VyHc47Nt1SRxTyZDnez0NsRgrEBOs4mjVLXx/rdXB3SjD3LF8n9G8MEznIuCddj5Z\n",
       "A1tWDW0ESvkGRFt5oyD9YeAIpvScrTHkYofYZCm6JUSZczUpYtitgPxKr75M8ykxRF2PyqyVGtuh\n",
       "i1n0zYm1/b1xUuyB6XdqergQs2tA55iR/fgaXRDzpLGJtf29cVLsgeAFfXfSOdl6Apzj20T+N2JW\n",
       "QYgucZyyoseKk2vmM4LfRKIdBvRNznQ5ccCd/VYXCIdJJjBWnK3j0p0wIr//OgELei6/13RJQxIb\n",
       "zkNy3Z9egdH0b3vqZ0nJtRc+KdyU448s/oLPAKb9FSejnWUJRVayEA/7zyaTJzMvgozi1P1rqMdA\n",
       "wzpd9Tpb11fFg3QzXzMO9AE9qCbi70PvoJHkQFSVRTXQxr3Oj7Ci6cRHgXoavXRVRWAgKLl4xos6\n",
       "AJAuGc2PipkCoi2OPp10lKz4q8KeFAbehLrGaNPPrPZsAQLo1AXpjJrs1Pd8amiNTJV7cOLHfq9J\n",
       "ueKRANBvl1DF+rKXJcZ6rW6SSkTa4HCvR6rLkzOHHre6/6SWrTNrmK5vmYit0G/NDfO4Lr8cGX6h\n",
       "XtCW2O5TfK6nG+HW5njb224wbJ8vIfWkVVknjSK9vR6gWYKVqWE9SGbXNe6JJRm/8z8JghYuj0sg\n",
       "i3Mo4sLHmGFWe0KTYY8/S1GXUWgVPA4lma7IzbZVQ8wtas0X3W7hLlmolrk/lfrEPm6Cx82wxe37\n",
       "eK4A9mJZIGIVlMag6rViOheUSvSLrxtiOG7i/x3/TOfSY1glqtGrEBdn07B5Wq74zxdN3x9IVIG5\n",
       "kigzdXmywwLWu07tS5MKc5p/9JnHA9hYwjV02qA/0gDHmw5KgBs/9eQUxb2lfgWhvBmQAsK3nSon\n",
       "kIY/V4M140KmldVWDnaET4AJ+xNRJoMYrcpXTErbHgUg4TMD94Qic05zil5Ho6xiZzygwKRo7Bqx\n",
       "dVWqnheZLUuXILdXLgrDvwx3A9uao8T/sV+aOrk50kopQ701k+ko5m+4YK1AJcuRaaGMQ2xCvMEA\n",
       "AAEeQZojbEE//rUqgAdJwawARDDvBUiaVLryWr3TcopwkW1LwFpxrhyaXBc7mlo/jmOKgFI2106V\n",
       "KLSD8ceP5QPu/3LOvddAFA7e/4oQf1qE0nVhojtLDEFfqVQbijFb013wq0//mCh7UmhqQ2WcfpDf\n",
       "NcHr5R3zVbk8R6YPuUQV32MEchg3d+FoCO8DSnY3Yib/yE4Fo/o+LOuoa/jqKmEiQjwZAjoEuc3Q\n",
       "Dw8LeXOuLfpOfKGRN8cjLI10Ja+qHNnruT/qHX4ZnrbPIg6/Aph1Y1DQN6Lu4/+5j4VJECV1OHh7\n",
       "bVuaS1w7X3VDG2jfA0PU824ilYFRInwfbKPegS+UeqTz2phcYP641pbPtdRdPwS+rOp7bQgFRR+B\n",
       "NZMdsAAAAD1BnkF4gh8ACSoe3oysp5+mZAIim2QvmAH+i5VdvadUDxGunjmjOU48LB/mOUuSQ1Ul\n",
       "0nfr/waQL9DEG8GVAAAANwGeYmpD/wAA81RoAdGByyBRSIv41jYbJanJdkWIyvyfu/j9pkhA17fX\n",
       "Ps/aXsV5dvtvSHNZkg0AAABiQZpnSahBaJlMCCf//rUqgABZvpeBLDBbgC/CGBfeKNUl1de1uBZ+\n",
       "+OG4GgAm4RgsankSZiG2jOAY0LAuAbuFBwrUEdJCwLklw3ik9oRBXZuhgVqzeCaZ5yU03/9/k9aF\n",
       "7GMAAABJQZ6FRREsEP8AAG5mq+YS3yIGLachx0sAEYzYp1udYyxPQerc6LYVtGwfp5PrMHxRm18e\n",
       "gtJw2Iwp7HJ7MmcNLMLo2pZrHPS04QAAACsBnqR0Q/8AAPLp7jARan5SDgrB8YqBfF3Gm14AZpjt\n",
       "l+1apXUVAhovcXPxAAAANgGepmpD/wAA8wTg7hwDkxpwIAK9UX212b8kCH6xIExd8uhc5feB+6OC\n",
       "G8BxOepimYVmkRbmgQAAAFlBmqlJqEFsmUwUTBP//rUqgABW/X89twBHgtt5iaJNmJJAwdzeUFmI\n",
       "HE2E79cQcUs3JFsJ5ZF9+pj4JH3nI5ZB6XVkb17Q8U0j5XrGba2E7WUH2bRHOY1VgAAAACsBnshq\n",
       "Q/8AAO35egBzdtTfDvJ6znNDnDxsK/dfK1FsSTRFIqtwoay/AkaAAAAAkkGazUnhClJlMCCf//61\n",
       "KoAAWT2ZiCUXnx3ucS81IAOE6m4RYe2l3fa471DFwOO6qXsLEYEBkA+BySxAGnpm830UYUqlTjhj\n",
       "OMvV0NDsaSvndn3lJBk6ZdJ7DW1xCL7n4hoRzbf7zfXaUiUVbNE915KmO/xT4Apn6YDadsD58rGh\n",
       "veH4LE4bwvKSyZQbM8i8zVjBAAAAbUGe60U0TBD/AABub+rWHYAJmdxrDekODiutvKSQtDnrmdf4\n",
       "H/KjvbJPEnDdYXr7vqjdtVHWpQcq93FvQsf6Q97sFfh2kbOqZoMKQMpbPqqsKXzvQ3XdtDky0+DS\n",
       "3z8ZNnYhTx+XpD25gTwd/0AAAAA2AZ8KdEP/AADtfoRPaAvQRM8fH7rZ1fBTswcqMFAFLoBfnkGE\n",
       "eytbXDOAU+XA4HkrGuZ85i8gAAAAPgGfDGpD/wAA8u6kByN/q8qaAFp4LxqNDWL2QI5EsH2Sz1hG\n",
       "0fZvu1NO9qu9oK/g36mMD2YX+PKPq14jvC9BAAAA50GbEUmoQWiZTAgl//61KoAAWTw/iAHRcckQ\n",
       "8MqA2LN3mIbrlJuxxWqDHwCdZi9JP1bYMR3GyfgtKvzHvIN54DRCB4d5NKCXRhiX/NRrlJLTaevU\n",
       "J0heSeKl3ZPT2rYS+/1sWnfAYlaQW85KzquKxT8aPERP98At8u9AuRsLyPZNce9HGT1/6kEn3YeK\n",
       "yZTT5EBPCc9Kls5eFnUhXwNHEUYd2L3NZy5oB0pGRyGmCh+ym/brnVerN+ff91xQC5So/8iHsm/w\n",
       "tRvWiAqmYmX7mTw8QCWws1M6T3f10rA8ogVgP90GUyRqrQAAAGZBny9FESwQ/wAAbmYMFENHhnBp\n",
       "jEYouzYctgAWMQdOUQgzTB6ymxg6q6b1DCdbxyEEiRv/ewuunkJ1auSDmK7TyNnuaFKdCBhrUdux\n",
       "WsWniUbPj0aJj4y38C0wYYQ/+0yCHZ0OfyEAAABBAZ9OdEP/AADy+cdtADpCbZ2ufbeDMx89Z4BI\n",
       "jn6luMarXuqkX0U7F0NESDF03jLT9z3WLZT0EI6Gv5NLk6QOr0AAAAA+AZ9QakP/AADy85J3gByz\n",
       "O8LRrhhHAgPxG3KLQuwA1vmdGKEr9e1MwZFKo5kPIcBvz5IW2/3VdWm6ZCto6fIAAACTQZtUSahB\n",
       "bJlMCH///qmWAAK3t7GKI0Mr8ULeAEqOJNbHYRdelHVcijrEgOs9SLhh4BMzw8iDRKC4BfgrbeQI\n",
       "ALUGo9eQMJMfHD7i7IAiSq5p/25Rk3WpPwPsBNQjhhH5kOzeuEZaPWkNfl63Ox7zrlmIH8MbYNX9\n",
       "utoM6P8WEE1PjfVm5FM0EFvuhXKfwrk7uWxhAAAAT0GfckUVLBD/AABubt38AAvXIZGo4Gvr6uK9\n",
       "7Eq+O5u0VAIEzBRn6z6Lulr8alqYYLpUNo+VDbstD9GXSuGIyiugLROO1ZYFhDh7AE9HeMAAAAA3\n",
       "AZ+TakP/AADyoQc1oAqMoNxXlU/CNvY9W+01aMqgYba2/KZWnBtVjnVlIwd0D/k9nnmhARVKuAAA\n",
       "BB5tb292AAAAbG12aGQAAAAAAAAAAAAAAAAAAAPoAAAQaAABAAABAAAAAAAAAAAAAAAAAQAAAAAA\n",
       "AAAAAAAAAAAAAAEAAAAAAAAAAAAAAAAAAEAAAAAAAAAAAAAAAAAAAAAAAAAAAAAAAAAAAAAAAAAC\n",
       "AAADSHRyYWsAAABcdGtoZAAAAAMAAAAAAAAAAAAAAAEAAAAAAAAQaAAAAAAAAAAAAAAAAAAAAAAA\n",
       "AQAAAAAAAAAAAAAAAAAAAAEAAAAAAAAAAAAAAAAAAEAAAAABsAAAASAAAAAAACRlZHRzAAAAHGVs\n",
       "c3QAAAAAAAAAAQAAEGgAABAAAAEAAAAAAsBtZGlhAAAAIG1kaGQAAAAAAAAAAAAAAAAAACgAAACo\n",
       "AFXEAAAAAAAtaGRscgAAAAAAAAAAdmlkZQAAAAAAAAAAAAAAAFZpZGVvSGFuZGxlcgAAAAJrbWlu\n",
       "ZgAAABR2bWhkAAAAAQAAAAAAAAAAAAAAJGRpbmYAAAAcZHJlZgAAAAAAAAABAAAADHVybCAAAAAB\n",
       "AAACK3N0YmwAAAC3c3RzZAAAAAAAAAABAAAAp2F2YzEAAAAAAAAAAQAAAAAAAAAAAAAAAAAAAAAB\n",
       "sAEgAEgAAABIAAAAAAAAAAEAAAAAAAAAAAAAAAAAAAAAAAAAAAAAAAAAAAAAAAAAAAAY//8AAAA1\n",
       "YXZjQwFkABX/4QAYZ2QAFazZQbCWhAAAAwAEAAADACg8WLZYAQAGaOvjyyLA/fj4AAAAABx1dWlk\n",
       "a2hA8l8kT8W6OaUbzwMj8wAAAAAAAAAYc3R0cwAAAAAAAAABAAAAFQAACAAAAAAUc3RzcwAAAAAA\n",
       "AAABAAAAAQAAAKhjdHRzAAAAAAAAABMAAAABAAAQAAAAAAEAACAAAAAAAgAACAAAAAABAAAoAAAA\n",
       "AAEAABAAAAAAAQAAAAAAAAABAAAIAAAAAAEAABgAAAAAAQAACAAAAAABAAAoAAAAAAEAABAAAAAA\n",
       "AQAAAAAAAAABAAAIAAAAAAEAACgAAAAAAQAAEAAAAAABAAAAAAAAAAEAAAgAAAAAAQAAIAAAAAAC\n",
       "AAAIAAAAABxzdHNjAAAAAAAAAAEAAAABAAAAFQAAAAEAAABoc3RzegAAAAAAAAAAAAAAFQAACZsA\n",
       "AAEiAAAAQQAAADsAAABmAAAATQAAAC8AAAA6AAAAXQAAAC8AAACWAAAAcQAAADoAAABCAAAA6wAA\n",
       "AGoAAABFAAAAQgAAAJcAAABTAAAAOwAAABRzdGNvAAAAAAAAAAEAAAAwAAAAYnVkdGEAAABabWV0\n",
       "YQAAAAAAAAAhaGRscgAAAAAAAAAAbWRpcmFwcGwAAAAAAAAAAAAAAAAtaWxzdAAAACWpdG9vAAAA\n",
       "HWRhdGEAAAABAAAAAExhdmY1OC40NS4xMDA=\n",
       "\">\n",
       "  Your browser does not support the video tag.\n",
       "</video>"
      ],
      "text/plain": [
       "<IPython.core.display.HTML object>"
      ]
     },
     "execution_count": 36,
     "metadata": {},
     "output_type": "execute_result"
    }
   ],
   "source": [
    "anim = p.plot(xstar);\n",
    "HTML(anim.to_html5_video())"
   ]
  },
  {
   "cell_type": "code",
   "execution_count": 18,
   "metadata": {},
   "outputs": [],
   "source": [
    "x, u = p._splitz(xstar)"
   ]
  },
  {
   "cell_type": "code",
   "execution_count": 22,
   "metadata": {},
   "outputs": [],
   "source": [
    "xN = x.reshape(-1, 4)[-1]"
   ]
  },
  {
   "cell_type": "code",
   "execution_count": 24,
   "metadata": {},
   "outputs": [],
   "source": [
    "x, _, theta, _ = xN"
   ]
  },
  {
   "cell_type": "code",
   "execution_count": 27,
   "metadata": {},
   "outputs": [
    {
     "data": {
      "text/plain": [
       "DeviceArray(0.5409801, dtype=float32)"
      ]
     },
     "execution_count": 27,
     "metadata": {},
     "output_type": "execute_result"
    }
   ],
   "source": [
    "jnp.sin(theta)"
   ]
  },
  {
   "cell_type": "code",
   "execution_count": 28,
   "metadata": {},
   "outputs": [
    {
     "data": {
      "text/plain": [
       "DeviceArray(-0.84103537, dtype=float32)"
      ]
     },
     "execution_count": 28,
     "metadata": {},
     "output_type": "execute_result"
    }
   ],
   "source": [
    "jnp.cos(theta)"
   ]
  },
  {
   "cell_type": "code",
   "execution_count": 34,
   "metadata": {},
   "outputs": [
    {
     "ename": "KeyboardInterrupt",
     "evalue": "",
     "output_type": "error",
     "traceback": [
      "\u001b[0;31m---------------------------------------------------------------------------\u001b[0m",
      "\u001b[0;31mKeyboardInterrupt\u001b[0m                         Traceback (most recent call last)",
      "    \u001b[0;31m[... skipping hidden 1 frame]\u001b[0m\n",
      "\u001b[0;32m<ipython-input-34-2c1a05e03140>\u001b[0m in \u001b[0;36m<module>\u001b[0;34m\u001b[0m\n\u001b[0;32m----> 1\u001b[0;31m \u001b[0mlist\u001b[0m\u001b[0;34m(\u001b[0m\u001b[0mp\u001b[0m\u001b[0;34m.\u001b[0m\u001b[0mplot\u001b[0m\u001b[0;34m(\u001b[0m\u001b[0mxstar\u001b[0m\u001b[0;34m)\u001b[0m\u001b[0;34m.\u001b[0m\u001b[0mframe_seq\u001b[0m\u001b[0;34m)\u001b[0m\u001b[0;34m\u001b[0m\u001b[0;34m\u001b[0m\u001b[0m\n\u001b[0m",
      "\u001b[0;32m~/anaconda3/envs/opt-control/lib/python3.8/site-packages/matplotlib/animation.py\u001b[0m in \u001b[0;36miter_frames\u001b[0;34m(frames)\u001b[0m\n\u001b[1;32m   1630\u001b[0m                     \u001b[0;32mwhile\u001b[0m \u001b[0;32mTrue\u001b[0m\u001b[0;34m:\u001b[0m\u001b[0;34m\u001b[0m\u001b[0;34m\u001b[0m\u001b[0m\n\u001b[0;32m-> 1631\u001b[0;31m                         \u001b[0mthis\u001b[0m\u001b[0;34m,\u001b[0m \u001b[0mframes\u001b[0m \u001b[0;34m=\u001b[0m \u001b[0mitertools\u001b[0m\u001b[0;34m.\u001b[0m\u001b[0mtee\u001b[0m\u001b[0;34m(\u001b[0m\u001b[0mframes\u001b[0m\u001b[0;34m,\u001b[0m \u001b[0;36m2\u001b[0m\u001b[0;34m)\u001b[0m\u001b[0;34m\u001b[0m\u001b[0;34m\u001b[0m\u001b[0m\n\u001b[0m\u001b[1;32m   1632\u001b[0m                         \u001b[0;32myield\u001b[0m \u001b[0;32mfrom\u001b[0m \u001b[0mthis\u001b[0m\u001b[0;34m\u001b[0m\u001b[0;34m\u001b[0m\u001b[0m\n",
      "\u001b[0;31mKeyboardInterrupt\u001b[0m: ",
      "\nDuring handling of the above exception, another exception occurred:\n",
      "\u001b[0;31mKeyboardInterrupt\u001b[0m                         Traceback (most recent call last)",
      "\u001b[0;31mKeyboardInterrupt\u001b[0m: "
     ]
    }
   ],
   "source": [
    "list(p.plot(xstar).frame_seq)"
   ]
  },
  {
   "cell_type": "code",
   "execution_count": null,
   "metadata": {},
   "outputs": [],
   "source": []
  }
 ],
 "metadata": {
  "kernelspec": {
   "display_name": "Python 3",
   "language": "python",
   "name": "python3"
  },
  "language_info": {
   "codemirror_mode": {
    "name": "ipython",
    "version": 3
   },
   "file_extension": ".py",
   "mimetype": "text/x-python",
   "name": "python",
   "nbconvert_exporter": "python",
   "pygments_lexer": "ipython3",
   "version": "3.8.5"
  }
 },
 "nbformat": 4,
 "nbformat_minor": 2
}
